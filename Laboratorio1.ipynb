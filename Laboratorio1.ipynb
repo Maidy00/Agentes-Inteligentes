{
  "nbformat": 4,
  "nbformat_minor": 0,
  "metadata": {
    "colab": {
      "name": "Laboratorio1.ipynb",
      "provenance": [],
      "authorship_tag": "ABX9TyOH1IJCsUQ0Hj+lZU3R6Ltg",
      "include_colab_link": true
    },
    "kernelspec": {
      "name": "python3",
      "display_name": "Python 3"
    },
    "language_info": {
      "name": "python"
    }
  },
  "cells": [
    {
      "cell_type": "markdown",
      "metadata": {
        "id": "view-in-github",
        "colab_type": "text"
      },
      "source": [
        "<a href=\"https://colab.research.google.com/github/Maidy00/Agentes-Inteligentes/blob/main/Laboratorio1.ipynb\" target=\"_parent\"><img src=\"https://colab.research.google.com/assets/colab-badge.svg\" alt=\"Open In Colab\"/></a>"
      ]
    },
    {
      "cell_type": "code",
      "metadata": {
        "id": "_k7hDOBJAGl0"
      },
      "source": [
        "REGLAS = {'moneda','pedir-codigo',\n",
        "            \"'a1' : 'servir-bebida1'\",\n",
        "            \"'a2' : 'servir-bebida2'\",\n",
        "            \"'a3' : 'servir-bebida3'\"}"
      ],
      "execution_count": null,
      "outputs": []
    },
    {
      "cell_type": "code",
      "metadata": {
        "id": "DIWMTNAYAOdL"
      },
      "source": [
        "class agenteReactivoSimple:\n",
        "#agente racional de tipo reactivo simple\n",
        "\n",
        "  def __init__(self, reglas):\n",
        "    self.reglas = reglas\n",
        "\n",
        "  def actuar(self,percepcion, accion_basica = ''):\n",
        "    if not percepcion:\n",
        "        return accion_basica\n",
        "    if percepcion in self.reglas.keys():\n",
        "        return self.reglas[percepcion]\n",
        "    return accion_basica"
      ],
      "execution_count": null,
      "outputs": []
    },
    {
      "cell_type": "code",
      "metadata": {
        "id": "iqNBY3MWARTQ"
      },
      "source": [
        "print(\"-- Agente Reactivo Simple: Maquina Expendedora-- \")\n",
        "expendedora = agenteReactivoSimple(REGLAS)\n",
        "percepcion = input(\"indicar percepcion: \")\n",
        "while percepcion:\n",
        "  accion = expendedora.actuar(percepcion ,'reiniciarse')\n",
        "  print(accion)\n",
        "  percepcion = input(\"indicar percepcion: \")"
      ],
      "execution_count": null,
      "outputs": []
    }
  ]
}