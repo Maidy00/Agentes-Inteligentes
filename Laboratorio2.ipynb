{
  "nbformat": 4,
  "nbformat_minor": 0,
  "metadata": {
    "colab": {
      "name": "Laboratorio2.ipynb",
      "provenance": [],
      "authorship_tag": "ABX9TyMlUdpFXrSmZXiWLI3yHYrS",
      "include_colab_link": true
    },
    "kernelspec": {
      "name": "python3",
      "display_name": "Python 3"
    },
    "language_info": {
      "name": "python"
    }
  },
  "cells": [
    {
      "cell_type": "markdown",
      "metadata": {
        "id": "view-in-github",
        "colab_type": "text"
      },
      "source": [
        "<a href=\"https://colab.research.google.com/github/Maidy00/Agentes-Inteligentes/blob/main/Laboratorio2.ipynb\" target=\"_parent\"><img src=\"https://colab.research.google.com/assets/colab-badge.svg\" alt=\"Open In Colab\"/></a>"
      ]
    },
    {
      "cell_type": "code",
      "metadata": {
        "id": "2f4kB5JnWIf0"
      },
      "source": [
        "Objetivo = ['a','b','c','d','e']"
      ],
      "execution_count": null,
      "outputs": []
    },
    {
      "cell_type": "code",
      "metadata": {
        "id": "Wh-VAqSMWcDP"
      },
      "source": [
        "def ordenar(lista):\n",
        "  #cambio 0-1 1-2 2-3 3-4\n",
        "  letra = 0;\n",
        "  while Objetivo!=lista:\n",
        " \n",
        "    lActual = lista[letra]\n",
        "    letraObjetivo = Objetivo.index(lActual);      \n",
        "    if letra > letraObjetivo:\n",
        "      lista[letra-1],lista[letra] = lista[letra],lista[letra-1]\n",
        "    elif letra < letraObjetivo:\n",
        "          lista[letra+1],lista[letra]= lista[letra],lista[letra+1]\n",
        " \n",
        "    print(lista)\n",
        "    if letra == 4:\n",
        "        letra = 0\n",
        "    else:\n",
        "          letra = letra+1"
      ],
      "execution_count": null,
      "outputs": []
    },
    {
      "cell_type": "code",
      "metadata": {
        "id": "U9is9kS4WfVn",
        "colab": {
          "base_uri": "https://localhost:8080/"
        },
        "outputId": "22d343c7-67f0-4087-d910-e1b75a763b32"
      },
      "source": [
        "problema = ['c','d','a','e','b']\n",
        "print(problema)\n",
        "ordenar(problema)"
      ],
      "execution_count": null,
      "outputs": [
        {
          "output_type": "stream",
          "name": "stdout",
          "text": [
            "['c', 'd', 'a', 'e', 'b']\n",
            "['d', 'c', 'a', 'e', 'b']\n",
            "['d', 'a', 'c', 'e', 'b']\n",
            "['d', 'a', 'c', 'e', 'b']\n",
            "['d', 'a', 'c', 'b', 'e']\n",
            "['d', 'a', 'c', 'b', 'e']\n",
            "['a', 'd', 'c', 'b', 'e']\n",
            "['a', 'c', 'd', 'b', 'e']\n",
            "['a', 'c', 'b', 'd', 'e']\n",
            "['a', 'c', 'b', 'd', 'e']\n",
            "['a', 'c', 'b', 'd', 'e']\n",
            "['a', 'c', 'b', 'd', 'e']\n",
            "['a', 'b', 'c', 'd', 'e']\n"
          ]
        }
      ]
    }
  ]
}